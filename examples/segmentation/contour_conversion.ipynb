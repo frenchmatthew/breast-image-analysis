{
 "cells": [
  {
   "attachments": {},
   "cell_type": "markdown",
   "metadata": {},
   "source": [
    "# Convert a High Resolution Contour from the Breast Visualiser into a Binary Mask  \n",
    "\n",
    "Priliminaries:  \n",
    "- Install the Breast Visualiser using the documentation in the breast research drive: \"drive/mount_point/documentation/group/breast-documentation/build/breast_visualiser/run_in_docker.html\"\n",
    "- Go to the configuration file and set \"numberSplinePointToExport\" to a sufficiently high value  "
   ]
  },
  {
   "cell_type": "code",
   "execution_count": null,
   "metadata": {},
   "outputs": [],
   "source": [
    "import json\n",
    "import argparse\n",
    "import numpy as np\n",
    "import nibabel as nib\n",
    "import bia"
   ]
  },
  {
   "cell_type": "code",
   "execution_count": null,
   "metadata": {},
   "outputs": [],
   "source": [
    "img_path = None # set to path of image \n",
    "contour_path = None # set to path of contour"
   ]
  },
  {
   "cell_type": "code",
   "execution_count": null,
   "metadata": {},
   "outputs": [],
   "source": [
    "# load image for image domain shape\n",
    "nifti_img = nib.load(img_path)\n",
    "img_domain = np.array(nifti_img.dataobj).shape\n",
    "affine = np.array(nifti_img.affine)\n",
    "\n",
    "# load contour voxel coordinates\n",
    "with open(contour_path) as f:\n",
    "    data = json.load(f)\n",
    "    print(data.keys())\n",
    "contour_points = data[\"voxel_coordinates\"]\n",
    "\n",
    "# convert contour to binary mask\n",
    "binary_mask = bia.naively_convert_high_res_contour_to_mask_3d(img_domain=img_domain, contour_points=contour_points)\n",
    "\n",
    "# save binary mask as NIFTY image\n",
    "nifti_binary_mask = nib.Nifti1Image(binary_mask, affine)\n",
    "nib.save(nifti_binary_mask, \"binary_mask.nii.gz\")"
   ]
  }
 ],
 "metadata": {
  "kernelspec": {
   "display_name": "venv",
   "language": "python",
   "name": "python3"
  },
  "language_info": {
   "codemirror_mode": {
    "name": "ipython",
    "version": 3
   },
   "file_extension": ".py",
   "mimetype": "text/x-python",
   "name": "python",
   "nbconvert_exporter": "python",
   "pygments_lexer": "ipython3",
   "version": "3.8.10"
  },
  "orig_nbformat": 4
 },
 "nbformat": 4,
 "nbformat_minor": 2
}
